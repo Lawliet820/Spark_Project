{
 "cells": [
  {
   "cell_type": "code",
   "execution_count": 1,
   "metadata": {
    "collapsed": true
   },
   "outputs": [],
   "source": [
    "import time \n",
    "from pyspark import SparkConf, SparkContext"
   ]
  },
  {
   "cell_type": "code",
   "execution_count": 2,
   "metadata": {
    "collapsed": true
   },
   "outputs": [],
   "source": [
    "conf = SparkConf().setMaster(\"local\").setAppName(\"My App\")\n",
    "sc = SparkContext(conf = conf)"
   ]
  },
  {
   "cell_type": "code",
   "execution_count": 5,
   "metadata": {
    "collapsed": true
   },
   "outputs": [],
   "source": [
    "rawFilePath = \"file:///home/hadoop/lawliet/00raw_rdd_files/\"\n",
    "rawRddData = sc.textFile(rawFilePath)"
   ]
  },
  {
   "cell_type": "code",
   "execution_count": 6,
   "metadata": {
    "scrolled": false
   },
   "outputs": [
    {
     "name": "stdout",
     "output_type": "stream",
     "text": [
      "Lines with a: 796, Lines with b: 332\n"
     ]
    }
   ],
   "source": [
    "t0 = time.time()\n",
    "numAs = rawRddData.filter(lambda line: 'a' in line).count()\n",
    "t1 = time.time()\n",
    "numBs = rawRddData.filter(lambda line: 'b' in line).count()\n",
    "t2 = time.time()\n",
    "numCs = rawRddData.filter(lambda line: 'c' in line).count()\n",
    "t3 = time.time()\n",
    "print('Lines with a: %s, Lines with b: %s' % (numAs, numBs))"
   ]
  },
  {
   "cell_type": "code",
   "execution_count": 7,
   "metadata": {},
   "outputs": [
    {
     "name": "stdout",
     "output_type": "stream",
     "text": [
      "0.09982609748840332 0.10451531410217285 1.3357679843902588\n"
     ]
    }
   ],
   "source": [
    "print(t3-t2, t2-t1, t1-t0)"
   ]
  },
  {
   "cell_type": "code",
   "execution_count": 8,
   "metadata": {
    "collapsed": true
   },
   "outputs": [],
   "source": [
    "targetFilePath = \"file:///home/hadoop/lawliet/00target_rdd_files/\"\n",
    "rawRddData.saveAsTextFile(targetFilePath)"
   ]
  },
  {
   "cell_type": "code",
   "execution_count": null,
   "metadata": {
    "collapsed": true
   },
   "outputs": [],
   "source": []
  },
  {
   "cell_type": "code",
   "execution_count": null,
   "metadata": {
    "collapsed": true
   },
   "outputs": [],
   "source": []
  }
 ],
 "metadata": {
  "kernelspec": {
   "display_name": "Python 3",
   "language": "python",
   "name": "python3"
  },
  "language_info": {
   "codemirror_mode": {
    "name": "ipython",
    "version": 3
   },
   "file_extension": ".py",
   "mimetype": "text/x-python",
   "name": "python",
   "nbconvert_exporter": "python",
   "pygments_lexer": "ipython3",
   "version": "3.6.1"
  }
 },
 "nbformat": 4,
 "nbformat_minor": 4
}
